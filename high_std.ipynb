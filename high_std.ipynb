{
 "cells": [
  {
   "cell_type": "code",
   "execution_count": 1,
   "metadata": {
    "collapsed": true
   },
   "outputs": [],
   "source": [
    "import pandas as pd"
   ]
  },
  {
   "cell_type": "code",
   "execution_count": 9,
   "metadata": {
    "collapsed": true
   },
   "outputs": [],
   "source": [
    "import numpy as np"
   ]
  },
  {
   "cell_type": "code",
   "execution_count": 2,
   "metadata": {
    "collapsed": true
   },
   "outputs": [],
   "source": [
    "df = pd.read_table('integrated.tsv', sep='\\t')"
   ]
  },
  {
   "cell_type": "code",
   "execution_count": 5,
   "metadata": {
    "collapsed": true
   },
   "outputs": [],
   "source": [
    "NAA_GSEs = ['GSE3350', 'GSE3350(1', 'GSE3350(2', 'GSE42896']\n",
    "IAA_GSEs = ['GSE35580', 'GSE35580(1', 'GSE35580(2', 'GSE35580(3', 'GSE35580(4', 'GSE7432', 'GSE71737']\n",
    "# auxin concentration: High -> Low"
   ]
  },
  {
   "cell_type": "code",
   "execution_count": 6,
   "metadata": {},
   "outputs": [],
   "source": [
    "df[df['p-value'] < 0.01][['Probe Set ID'] + NAA_GSEs + IAA_GSEs].to_csv('toR_Pvalue_001.tsv', sep='\\t')"
   ]
  },
  {
   "cell_type": "code",
   "execution_count": 20,
   "metadata": {},
   "outputs": [],
   "source": [
    "df['std'] = 0"
   ]
  },
  {
   "cell_type": "code",
   "execution_count": 17,
   "metadata": {},
   "outputs": [
    {
     "data": {
      "text/plain": [
       "GSE3350           -0.476\n",
       "GSE3350(1       0.454559\n",
       "GSE3350(2           0.11\n",
       "GSE42896      0.00646512\n",
       "GSE35580         1.37228\n",
       "GSE35580(1     -0.426163\n",
       "GSE35580(2      0.974272\n",
       "GSE35580(3     0.0923416\n",
       "GSE35580(4      -1.32642\n",
       "GSE7432        0.0369477\n",
       "GSE71737        0.644288\n",
       "Name: 22809, dtype: object"
      ]
     },
     "execution_count": 17,
     "metadata": {},
     "output_type": "execute_result"
    }
   ],
   "source": [
    "df.loc[i][NAA_GSEs + IAA_GSEs]"
   ]
  },
  {
   "cell_type": "code",
   "execution_count": 22,
   "metadata": {},
   "outputs": [],
   "source": [
    "for i in df.index:\n",
    "    df.loc[i, 'std'] = np.std(df.loc[i][NAA_GSEs + IAA_GSEs])"
   ]
  },
  {
   "cell_type": "code",
   "execution_count": 27,
   "metadata": {},
   "outputs": [],
   "source": [
    "high_std = df[df['std'] > 0.928539]"
   ]
  },
  {
   "cell_type": "code",
   "execution_count": 28,
   "metadata": {
    "collapsed": true
   },
   "outputs": [],
   "source": [
    "high_std[['Probe Set ID'] + NAA_GSEs + IAA_GSEs].to_csv('high_std.tsv', sep='\\t')"
   ]
  },
  {
   "cell_type": "code",
   "execution_count": null,
   "metadata": {
    "collapsed": true
   },
   "outputs": [],
   "source": []
  }
 ],
 "metadata": {
  "kernelspec": {
   "display_name": "Python 3",
   "language": "python",
   "name": "python3"
  },
  "language_info": {
   "codemirror_mode": {
    "name": "ipython",
    "version": 3
   },
   "file_extension": ".py",
   "mimetype": "text/x-python",
   "name": "python",
   "nbconvert_exporter": "python",
   "pygments_lexer": "ipython3",
   "version": "3.6.2"
  }
 },
 "nbformat": 4,
 "nbformat_minor": 2
}
